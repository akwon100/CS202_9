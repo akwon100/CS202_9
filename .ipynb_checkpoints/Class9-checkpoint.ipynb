{
 "cells": [
  {
   "cell_type": "code",
   "execution_count": 2,
   "metadata": {},
   "outputs": [
    {
     "name": "stdout",
     "output_type": "stream",
     "text": [
      "<Response [503]>\n",
      "\n",
      "<html class=\"\">\n",
      "<head>\n",
      "<meta content=\"width=device-width, initial-scale=1.0, maximum-scale=1.0, user-scalable=no\" name=\"viewport\"/>\n",
      "<title>IP blocked</title>\n",
      "<style> \n",
      "\n",
      "html {\n",
      "\n",
      "    --header-background: rgba(255,255,255,0.95);\n",
      "    --header-item-link:#207bbf;\n",
      "\n",
      "    --mono-abs-f:#ffffff;\n",
      "    --mono-abs-d:#dddddd;\n",
      "    --mono-abs-a:#aaaaaa;\n",
      "    --mono-abs-9:#999999;\n",
      "    --mono-abs-8:#888888;\n",
      "    --mono-abs-3:#333333;\n",
      "\n",
      "    --mono-f: #ffffff;\n",
      "    --mono-fd: #fdfdfd;\n",
      "    --mono-fc: #fcfcfc;\n",
      "    --mono-fb: #fbfbfb;\n",
      "    --mono-fa: #fafafa;\n",
      "    --mono-f8: #f8f8f8;\n",
      "    --mono-f7: #f7f7f7;\n",
      "    --mono-f4: #f4f4f4;\n",
      "    --mono-f3: #f3f3f3;\n",
      "    --mono-f2: #f2f2f2;\n",
      "    --mono-f1: #f1f1f1;\n",
      "    --mono-f0: #f0f0f0;\n",
      "    --mono-e: #eeeeee;\n",
      "    --mono-ef: #efefef;\n",
      "    --mono-e8: #e8e8e8;\n",
      "    --mono-e2: #e2e2e2;\n",
      "    --mono-db: #dbdbdb;\n",
      "    --mono-d8: #d8d8d8;\n",
      "    --mono-d: #dddddd;\n",
      "    --mono-c: #cccccc;\n",
      "    --mono-b: #bbbbbb;\n",
      "    --mono-a: #aaaaaa;\n",
      "    --mono-9: #999;\n",
      "    --mono-8: #888;\n",
      "    --mono-7: #777;\n",
      "    --mono-6: #666;\n",
      "    --mono-5: #555;\n",
      "    --mono-4: #444;\n",
      "    --mono-3: #333;\n",
      "    --mono-2: #222;\n",
      "    --mono-1: #111;\n",
      "    --mono-0: #000;\n",
      "\n",
      "    --gen-bg-lightgreen: #CDEBCD;\n",
      "    --gen-bg-yellow: #ffffee;\n",
      "    --gen-text-red: crimson;\n",
      "    --gen-blue-neon: #44c6ea;\n",
      "\n",
      "\n",
      "    --gen-blue-lightest: #d9f1ff;\n",
      "    --gen-blue-lighter: #98D4F7;\n",
      "    --gen-blue-light: #5eb0dc;\n",
      "    --gen-blue-lightpurp: #7eb0dc;\n",
      "    --gen-blue-med: #336fc6;\n",
      "    --gen-blue-dark: #2054a5;\n",
      "    --gen-blue-darker: #203e79;\n",
      "    --gen-blue-darkest: #122D62;\n",
      "}\n",
      "li { margin-top:0.5em;margin-bottom:0.5em; }\n",
      "               input, textarea { width:100%; max-width:20em; font-size:1.2em; border:1px solid var(--mono-d); color:var(--mono-6); padding:0.3em;background:var(--mono-f);}\n",
      "                textarea { height:5em }\n",
      "               .recaptcha_frame { display:none; margin-top:0.5em; margin-bottom:0.5em; padding-bottom:0.5em; padding-top:0.5em; border-top:1px solid var(--mono-d); border-bottom:1px solid var(--mono-d); }\n",
      "               .btnsubmit { font-size:1.2em; padding:0.3em; background:#383; color:var(--mono-f); padding-left:1em; padding-right:1em; margin-top:0.5em; cursor:pointer }\n",
      "               .btnsubmit:hover { background: #494; }\n",
      "               .stop_notice_message { color:#866; font-weight:bold; margin:0.5em; margin-bottom:1em; }\n",
      "               .body_3 { margin-top:0em; }\n",
      "               html.captcha .recaptcha_frame { display:block; }\n",
      "               .error { margin-bottom:0.5em; margin-top:0.5em; padding:0.5em; background:#fee; border:1px solid #daa; color:#800 }\n",
      "               #content { margin:3%;padding:1.5em;border:1px solid var(--mono-c);border-radius:5px;background:var(--mono-f8);box-shadow:1px 1px var(--mono-e);}\n",
      "               body { font-family:Verdana, Arial; background:var(--mono-e);padding:3em;color:var(--mono-5); }\n",
      "\n",
      "               @media only screen and (max-width:40em) {\n",
      "\n",
      "                  body { padding:0.2em; background:var(--mono-f); font-size:0.9em; }\n",
      "                  #content { padding:0em; border:none; background:var(--mono-f); box-shadow:none; }\n",
      "               }\n",
      "            </style>\n",
      "<script>\n",
      "               function openFeedback () {\n",
      "                  document.getElementById('recaptcha_frame').style.display = 'block';\n",
      "                  document.getElementById('clickhere').style.display = 'none';\n",
      "               }  \n",
      "            </script>\n",
      "<script src=\"https://www.google.com/recaptcha/api.js\"></script>\n",
      "<body style=\"\">\n",
      "<div id=\"content\">\n",
      "         \n",
      "            We're sorry, but your IP address (<b>107.77.226.220</b>) has been automatically blocked from this site because our firewall has detected there could be unusual activity from your IP address. Please note that an IP block does not mean that your Rate Your Music account has been banned. IP blocks can happen for several reasons:\n",
      "           <ol>\n",
      "<li>You could have been blocked by mistake. Your IP was not blocked by a person; it was blocked by a firewall that uses an automated algorithm. Our automated blocking policies are imperfect and sometimes too strict, and some IP addresses are blocked by accident. If you don't think you've done anything to warrant a block, this is most likely the case.</li>\n",
      "<li>You requested a very large number of pages in a very short time, causing problems for our server (this can happen if you hit 'refresh' over and over).</li>\n",
      "<li>You (or someone with the same IP address as you) might be using a script or program to download pages from this site automatically. Our terms of service forbid this.</li>\n",
      "<li>You might be using a VPN. If you are using a VPN, and other users of the same VPN are abusing the service, then you'll be automatically blocked as well. We cannot do much about this right now; you must turn off your VPN to continue using the site. We hope to eventually work on a solution for this when we have the resources to do so.</li>\n",
      "<li>You might have the Hola VPN extension installed. This company sells your internet traffic to other people, meaning that other people can use your IP address and can break some of the above rules, causing you to be blocked from this site.</li>\n",
      "<li>You might have a buggy browser extension installed. Did you install a browser extension that helps you download YouTube videos or other content? If so, you'll need to disable it when using this site, as it spams the websites you visit with fake requests.</li>\n",
      "<li>You might have the Ghostery extension installed. This extension has a feature called 'The Human Web' that silently re-downloads all the pages you've recently visited in your browser in the background to collect data, which causes you to be blocked. You'll need to disable 'The Human Web' functionality entirely. Note that whitelisting RYM will <b>not stop</b> Ghostery; you must disable the 'Human Web' feature entirely.</li>\n",
      "<li>Your computer may be infected with malware or spyware that makes automated requests to our server and causes problems.</li>\n",
      "</ol>\n",
      "<span id=\"clickhere\">You can request being unblocked by clicking <a href=\"javascript:openFeedback()\">here</a> and completing the form.  </span>Please be sure to add any information that might help us\n",
      "                        understand why you might have been banned.  \n",
      "\n",
      "            <form action=\"/_sec_verify_v2\" id=\"sec_verify\" method=\"post\">\n",
      "<input name=\"return_url\" type=\"hidden\" value=\"/list/GlobalChartArchive/billboard-year-end-artist-100-of-2021/\"/>\n",
      "<div class=\"recaptcha_frame\" id=\"recaptcha_frame\">\n",
      "<p>Step 1: Confirm you are human</p>\n",
      "<div class=\"g-recaptcha\" data-sitekey=\"6LeKVv8SAAAAAMKThIl7xn5jJ3CnB6qtTf_7sqg8\"></div>\n",
      "<p>Step 2 (optional): Enter any other comments/feedback here</p>\n",
      "<textarea id=\"feedback\" name=\"feedback\" placeholder=\"\"></textarea>\n",
      "<p>Step 3: Enter your email address. <b style=\"color:maroon\">(Required)</b> </p>\n",
      "<input id=\"email\" name=\"email\" placeholder=\"\"/>\n",
      "<p></p>\n",
      "<a class=\"btnsubmit\" onclick=\"document.getElementById('sec_verify').submit();\">Submit &gt;</a>\n",
      "<p></p>\n",
      "</div></form>\n",
      "</div>\n",
      "<div class=\"body_3\">\n",
      "</div>\n",
      "<br/>\n",
      "\n",
      "         Regards,<br/>\n",
      "         RYM/Sonemic Staff</body></head></html>\n",
      "\n"
     ]
    }
   ],
   "source": [
    "url = 'https://rateyourmusic.com/list/GlobalChartArchive/billboard-year-end-artist-100-of-2021/'\n",
    "req = requests.get(url)\n",
    "soup = BeautifulSoup(req.text,\"html.parser\")\n",
    "\n",
    "print(req)\n",
    "\n",
    "print(soup)"
   ]
  },
  {
   "cell_type": "code",
   "execution_count": 1,
   "metadata": {},
   "outputs": [],
   "source": [
    "#Import\n",
    "from bs4 import BeautifulSoup\n",
    "import requests\n",
    "#import urllib.parse"
   ]
  },
  {
   "cell_type": "code",
   "execution_count": 37,
   "metadata": {},
   "outputs": [],
   "source": [
    "#Letting sites know we are a browser\n",
    "def iAmBrowser(url):\n",
    "    headers = requests.utils.default_headers()\n",
    "    headers.update({'User-Agent': 'Mozilla/5.0 (X11; Ubuntu; Linux x86_64; rv:52.0) Gecko/20100101 Firefox/52.0',})\n",
    "    page = requests.get(url, headers=headers)\n",
    "    soup = BeautifulSoup(page.content ,'lxml')\n",
    "    return soup\n",
    "\n",
    "\n",
    "url = 'https://rateyourmusic.com/list/GlobalChartArchive/billboard-year-end-artist-100-of-2021/'\n",
    "soup = iAmBrowser(url)\n"
   ]
  },
  {
   "cell_type": "code",
   "execution_count": 39,
   "metadata": {},
   "outputs": [],
   "source": [
    "table = soup.find('table')"
   ]
  },
  {
   "cell_type": "code",
   "execution_count": 40,
   "metadata": {},
   "outputs": [],
   "source": [
    "rows = table.find_all('tr')"
   ]
  },
  {
   "cell_type": "code",
   "execution_count": 41,
   "metadata": {},
   "outputs": [],
   "source": [
    "artists = []\n",
    "for row in rows:\n",
    "    artists.append(row)"
   ]
  },
  {
   "cell_type": "code",
   "execution_count": 42,
   "metadata": {},
   "outputs": [
    {
     "data": {
      "text/plain": [
       "<tr class=\"trodd\"><td align=\"center\" class=\"number\" valign=\"center\" width=\"10%\"><a id=\"item46988952\"></a>1</td><td class=\"list_art\"><a href=\"/artist/drake\"><img alt=\"Take Care\" class=\"lazyload\" data-src=\"//e.snmc.io/i/150/s/950bc117fc77dfd66ca4f26d02ef36d7/4901693\" id=\"img_a_339824\" src=\"//e.snmc.io/2.5/img/images/blank.png\" title=\"Take Care\"/></a></td><td class=\"main_entry\"><span class=\"show-for-small list_mobile_number\">1.</span><b><a class=\"list_artist\" href=\"/artist/drake\">Drake</a></b></td><td></td></tr>"
      ]
     },
     "execution_count": 42,
     "metadata": {},
     "output_type": "execute_result"
    }
   ],
   "source": [
    "artists[0]"
   ]
  },
  {
   "cell_type": "code",
   "execution_count": 43,
   "metadata": {},
   "outputs": [
    {
     "data": {
      "text/plain": [
       "bs4.element.Tag"
      ]
     },
     "execution_count": 43,
     "metadata": {},
     "output_type": "execute_result"
    }
   ],
   "source": [
    "type(artists[0])"
   ]
  },
  {
   "cell_type": "code",
   "execution_count": 44,
   "metadata": {},
   "outputs": [
    {
     "data": {
      "text/plain": [
       "'<tr class=\"trodd\"><td align=\"center\" class=\"number\" valign=\"center\" width=\"10%\"><a id=\"item46988952\"></a>1</td><td class=\"list_art\"><a href=\"/artist/drake\"><img alt=\"Take Care\" class=\"lazyload\" data-src=\"//e.snmc.io/i/150/s/950bc117fc77dfd66ca4f26d02ef36d7/4901693\" id=\"img_a_339824\" src=\"//e.snmc.io/2.5/img/images/blank.png\" title=\"Take Care\"/></a></td><td class=\"main_entry\"><span class=\"show-for-small list_mobile_number\">1.</span><b><a class=\"list_artist\" href=\"/artist/drake\">Drake</a></b></td><td></td></tr>'"
      ]
     },
     "execution_count": 44,
     "metadata": {},
     "output_type": "execute_result"
    }
   ],
   "source": [
    "str(artists[0])"
   ]
  },
  {
   "cell_type": "code",
   "execution_count": 45,
   "metadata": {},
   "outputs": [
    {
     "data": {
      "text/plain": [
       "['<tr class=\"trodd\"><td align=\"center\" class=\"number\" valign=\"center\" width=\"10%\"><a id=\"item46988952\"></a>1</td><td class=\"list_art\"><a href=\"/',\n",
       " '/drake\"><img alt=\"Take Care\" class=\"lazyload\" data-src=\"//e.snmc.io/i/150/s/950bc117fc77dfd66ca4f26d02ef36d7/4901693\" id=\"img_a_339824\" src=\"//e.snmc.io/2.5/img/images/blank.png\" title=\"Take Care\"/></a></td><td class=\"main_entry\"><span class=\"show-for-small list_mobile_number\">1.</span><b><a class=\"list_',\n",
       " '\" href=\"/',\n",
       " '/drake\">Drake</a></b></td><td></td></tr>']"
      ]
     },
     "execution_count": 45,
     "metadata": {},
     "output_type": "execute_result"
    }
   ],
   "source": [
    "str(artists[0]).split('artist')"
   ]
  },
  {
   "cell_type": "code",
   "execution_count": 46,
   "metadata": {},
   "outputs": [],
   "source": [
    "temp = str(artists[0]).split('artist')"
   ]
  },
  {
   "cell_type": "code",
   "execution_count": 47,
   "metadata": {},
   "outputs": [
    {
     "data": {
      "text/plain": [
       "['/drake\"',\n",
       " '<img alt=\"Take Care\" class=\"lazyload\" data-src=\"//e.snmc.io/i/150/s/950bc117fc77dfd66ca4f26d02ef36d7/4901693\" id=\"img_a_339824\" src=\"//e.snmc.io/2.5/img/images/blank.png\" title=\"Take Care\"/',\n",
       " '</a',\n",
       " '</td',\n",
       " '<td class=\"main_entry\"',\n",
       " '<span class=\"show-for-small list_mobile_number\"',\n",
       " '1.</span',\n",
       " '<b',\n",
       " '<a class=\"list_']"
      ]
     },
     "execution_count": 47,
     "metadata": {},
     "output_type": "execute_result"
    }
   ],
   "source": [
    "temp[1].split(\">\")"
   ]
  },
  {
   "cell_type": "code",
   "execution_count": 48,
   "metadata": {},
   "outputs": [
    {
     "data": {
      "text/plain": [
       "'drake'"
      ]
     },
     "execution_count": 48,
     "metadata": {},
     "output_type": "execute_result"
    }
   ],
   "source": [
    "temp[1].split(\">\")[0].replace('/','').replace('\"','')"
   ]
  },
  {
   "cell_type": "code",
   "execution_count": null,
   "metadata": {},
   "outputs": [],
   "source": []
  },
  {
   "cell_type": "code",
   "execution_count": null,
   "metadata": {},
   "outputs": [],
   "source": []
  },
  {
   "cell_type": "code",
   "execution_count": null,
   "metadata": {},
   "outputs": [],
   "source": []
  },
  {
   "cell_type": "code",
   "execution_count": null,
   "metadata": {},
   "outputs": [],
   "source": []
  }
 ],
 "metadata": {
  "kernelspec": {
   "display_name": "Python 3",
   "language": "python",
   "name": "python3"
  },
  "language_info": {
   "codemirror_mode": {
    "name": "ipython",
    "version": 3
   },
   "file_extension": ".py",
   "mimetype": "text/x-python",
   "name": "python",
   "nbconvert_exporter": "python",
   "pygments_lexer": "ipython3",
   "version": "3.7.4"
  }
 },
 "nbformat": 4,
 "nbformat_minor": 2
}
